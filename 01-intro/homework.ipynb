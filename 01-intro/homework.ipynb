{
 "cells": [
  {
   "cell_type": "code",
   "execution_count": 1,
   "id": "81c0ec8d",
   "metadata": {},
   "outputs": [
    {
     "name": "stdout",
     "output_type": "stream",
     "text": [
      "Python 3.12.1\n"
     ]
    }
   ],
   "source": [
    "!python -V"
   ]
  },
  {
   "cell_type": "markdown",
   "id": "450344f3",
   "metadata": {},
   "source": [
    "# Homework\n",
    "Basis: https://github.com/DataTalksClub/mlops-zoomcamp/tree/main/01-intro"
   ]
  },
  {
   "cell_type": "code",
   "execution_count": 2,
   "id": "5b8074e7",
   "metadata": {},
   "outputs": [
    {
     "name": "stdout",
     "output_type": "stream",
     "text": [
      "--2025-06-23 00:37:58--  https://d37ci6vzurychx.cloudfront.net/trip-data/yellow_tripdata_2023-01.parquet\n",
      "Resolving d37ci6vzurychx.cloudfront.net (d37ci6vzurychx.cloudfront.net)... 18.239.38.83, 18.239.38.147, 18.239.38.181, ...\n",
      "Connecting to d37ci6vzurychx.cloudfront.net (d37ci6vzurychx.cloudfront.net)|18.239.38.83|:443... connected.\n",
      "HTTP request sent, awaiting response... 200 OK\n",
      "Length: 47673370 (45M) [application/x-www-form-urlencoded]\n",
      "Saving to: ‘../data/yellow_tripdata_2023-01.parquet.2’\n",
      "\n",
      "yellow_tripdata_202 100%[===================>]  45.46M   254MB/s    in 0.2s    \n",
      "\n",
      "2025-06-23 00:37:58 (254 MB/s) - ‘../data/yellow_tripdata_2023-01.parquet.2’ saved [47673370/47673370]\n",
      "\n",
      "--2025-06-23 00:37:58--  https://d37ci6vzurychx.cloudfront.net/trip-data/yellow_tripdata_2023-02.parquet\n",
      "Resolving d37ci6vzurychx.cloudfront.net (d37ci6vzurychx.cloudfront.net)... 18.239.38.83, 18.239.38.181, 18.239.38.147, ...\n",
      "Connecting to d37ci6vzurychx.cloudfront.net (d37ci6vzurychx.cloudfront.net)|18.239.38.83|:443... connected.\n",
      "HTTP request sent, awaiting response... 200 OK\n",
      "Length: 47748012 (46M) [application/x-www-form-urlencoded]\n",
      "Saving to: ‘../data/yellow_tripdata_2023-02.parquet.2’\n",
      "\n",
      "yellow_tripdata_202 100%[===================>]  45.54M   280MB/s    in 0.2s    \n",
      "\n",
      "2025-06-23 00:37:58 (280 MB/s) - ‘../data/yellow_tripdata_2023-02.parquet.2’ saved [47748012/47748012]\n",
      "\n"
     ]
    }
   ],
   "source": [
    "# January\n",
    "!wget https://d37ci6vzurychx.cloudfront.net/trip-data/yellow_tripdata_2023-01.parquet -P ../data/\n",
    "# February\n",
    "!wget https://d37ci6vzurychx.cloudfront.net/trip-data/yellow_tripdata_2023-02.parquet -P ../data/"
   ]
  },
  {
   "cell_type": "code",
   "execution_count": 3,
   "id": "1b52e3de",
   "metadata": {},
   "outputs": [],
   "source": [
    "import pandas as pd\n",
    "import seaborn as sns\n",
    "import matplotlib.pyplot as plt\n",
    "import pickle\n",
    "from sklearn.feature_extraction import DictVectorizer\n",
    "from sklearn.linear_model import LinearRegression\n",
    "from sklearn.linear_model import Lasso\n",
    "from sklearn.linear_model import Ridge\n",
    "from sklearn.metrics import root_mean_squared_error "
   ]
  },
  {
   "cell_type": "code",
   "execution_count": 4,
   "id": "193bdde3",
   "metadata": {},
   "outputs": [],
   "source": [
    "%%bash\n",
    "if [ ! -f ../data/yellow_tripdata_2023-01.parquet ]; then\n",
    "    wget https://d37ci6vzurychx.cloudfront.net/trip-data/yellow_tripdata_2023-01.parquet -P ../data/\n",
    "fi\n",
    "if [ ! -f ../data/yellow_tripdata_2023-02.parquet ]; then\n",
    "    wget https://d37ci6vzurychx.cloudfront.net/trip-data/yellow_tripdata_2023-02.parquet -P ../data/\n",
    "fi"
   ]
  },
  {
   "cell_type": "code",
   "execution_count": 6,
   "id": "0066bbf0",
   "metadata": {},
   "outputs": [],
   "source": [
    "df_jan = pd.read_parquet('../data/yellow_tripdata_2023-01.parquet')\n",
    "df_feb = pd.read_parquet('../data/yellow_tripdata_2023-02.parquet')"
   ]
  },
  {
   "cell_type": "code",
   "execution_count": null,
   "id": "4d762060",
   "metadata": {},
   "outputs": [],
   "source": [
    "df_jan['duration'] = df_jan.tpep_dropoff_datetime - df_jan.tpep_pickup_datetime\n",
    "\n",
    "# this way I can view methods of the single series or time_delta obj, since vsc does not index `td.` in lambda\n",
    "# dir(df_jan['duration'].iloc[0])\n",
    "\n",
    "df_jan.duration = df_jan.duration.apply(lambda td: td.total_seconds() / 60)\n",
    "\n",
    "df_jan.duration"
   ]
  },
  {
   "cell_type": "code",
   "execution_count": null,
   "id": "616428f6",
   "metadata": {},
   "outputs": [
    {
     "data": {
      "text/plain": [
       "np.float64(9.9375936922331)"
      ]
     },
     "execution_count": 17,
     "metadata": {},
     "output_type": "execute_result"
    }
   ],
   "source": [
    "df_jan.duration.std()"
   ]
  },
  {
   "cell_type": "code",
   "execution_count": null,
   "id": "4d9dd450",
   "metadata": {},
   "outputs": [
    {
     "data": {
      "text/plain": [
       "(3008849, 3008849)"
      ]
     },
     "execution_count": 20,
     "metadata": {},
     "output_type": "execute_result"
    }
   ],
   "source": [
    "a = len(df_jan)\n",
    "df_jan_n = df_jan[(df_jan.duration >= 1) & (df_jan.duration <= 60)]\n",
    "b = len(df_jan_n)\n",
    "a, b"
   ]
  },
  {
   "cell_type": "code",
   "execution_count": null,
   "id": "a762897b",
   "metadata": {},
   "outputs": [],
   "source": []
  }
 ],
 "metadata": {
  "kernelspec": {
   "display_name": ".venv",
   "language": "python",
   "name": "python3"
  },
  "language_info": {
   "codemirror_mode": {
    "name": "ipython",
    "version": 3
   },
   "file_extension": ".py",
   "mimetype": "text/x-python",
   "name": "python",
   "nbconvert_exporter": "python",
   "pygments_lexer": "ipython3",
   "version": "3.12.1"
  }
 },
 "nbformat": 4,
 "nbformat_minor": 5
}
