{
 "cells": [
  {
   "cell_type": "code",
   "execution_count": 40,
   "id": "81c0ec8d",
   "metadata": {},
   "outputs": [
    {
     "name": "stdout",
     "output_type": "stream",
     "text": [
      "Python 3.12.11\n"
     ]
    }
   ],
   "source": [
    "!python -V"
   ]
  },
  {
   "cell_type": "markdown",
   "id": "450344f3",
   "metadata": {},
   "source": [
    "# Homework\n",
    "Basis: https://github.com/DataTalksClub/mlops-zoomcamp/tree/main/01-intro"
   ]
  },
  {
   "cell_type": "code",
   "execution_count": 41,
   "id": "1b52e3de",
   "metadata": {},
   "outputs": [],
   "source": [
    "import pandas as pd\n",
    "import seaborn as sns\n",
    "import matplotlib.pyplot as plt\n",
    "import pickle\n",
    "from sklearn.feature_extraction import DictVectorizer\n",
    "from sklearn.linear_model import LinearRegression\n",
    "from sklearn.linear_model import Lasso\n",
    "from sklearn.linear_model import Ridge\n",
    "from sklearn.metrics import root_mean_squared_error "
   ]
  },
  {
   "cell_type": "code",
   "execution_count": 42,
   "id": "193bdde3",
   "metadata": {},
   "outputs": [],
   "source": [
    "%%bash\n",
    "if [ ! -f \"../data/yellow_tripdata_2023-01.parquet\" ]; then\n",
    "    wget https://d37ci6vzurychx.cloudfront.net/trip-data/yellow_tripdata_2023-01.parquet -P ../data/\n",
    "fi\n",
    "if [ ! -f \"../data/yellow_tripdata_2023-02.parquet\" ]; then\n",
    "    wget https://d37ci6vzurychx.cloudfront.net/trip-data/yellow_tripdata_2023-02.parquet -P ../data/\n",
    "fi"
   ]
  },
  {
   "cell_type": "code",
   "execution_count": 43,
   "id": "0066bbf0",
   "metadata": {},
   "outputs": [],
   "source": [
    "df_jan = pd.read_parquet(\"../data/yellow_tripdata_2023-01.parquet\")\n",
    "df_feb = pd.read_parquet(\"../data/yellow_tripdata_2023-02.parquet\")"
   ]
  },
  {
   "cell_type": "code",
   "execution_count": 44,
   "id": "4d762060",
   "metadata": {},
   "outputs": [
    {
     "data": {
      "text/plain": [
       "0           8.433333\n",
       "1           6.316667\n",
       "2          12.750000\n",
       "3           9.616667\n",
       "4          10.833333\n",
       "             ...    \n",
       "3066761    13.983333\n",
       "3066762    19.450000\n",
       "3066763    24.516667\n",
       "3066764    13.000000\n",
       "3066765    14.400000\n",
       "Name: duration, Length: 3066766, dtype: float64"
      ]
     },
     "execution_count": 44,
     "metadata": {},
     "output_type": "execute_result"
    }
   ],
   "source": [
    "df_jan[\"duration\"] = df_jan.tpep_dropoff_datetime - df_jan.tpep_pickup_datetime\n",
    "\n",
    "# this way I can view methods of the single series or time_delta obj, since vsc does not index `td.` in lambda\n",
    "# dir(df_jan[\"duration\"].iloc[0])\n",
    "\n",
    "df_jan.duration = df_jan.duration.apply(lambda td: td.total_seconds() / 60)\n",
    "\n",
    "df_jan[\"duration\"]"
   ]
  },
  {
   "cell_type": "code",
   "execution_count": 45,
   "id": "616428f6",
   "metadata": {},
   "outputs": [
    {
     "data": {
      "text/plain": [
       "np.float64(42.59435124195457)"
      ]
     },
     "execution_count": 45,
     "metadata": {},
     "output_type": "execute_result"
    }
   ],
   "source": [
    "df_jan.duration.std()"
   ]
  },
  {
   "cell_type": "code",
   "execution_count": 46,
   "id": "4d9dd450",
   "metadata": {},
   "outputs": [
    {
     "name": "stdout",
     "output_type": "stream",
     "text": [
      "Data remaining after filter: 98.12%\n"
     ]
    }
   ],
   "source": [
    "a = len(df_jan)\n",
    "df_jan_ft = df_jan[(df_jan.duration >= 1) & (df_jan.duration <= 60)]\n",
    "b = len(df_jan_ft)\n",
    "print(f\"Data remaining after filter: {(b / a) * 100:.2f}%\")"
   ]
  },
  {
   "cell_type": "code",
   "execution_count": 47,
   "id": "a762897b",
   "metadata": {},
   "outputs": [
    {
     "name": "stderr",
     "output_type": "stream",
     "text": [
      "C:\\Users\\Daniel\\AppData\\Local\\Temp\\ipykernel_21884\\591911440.py:6: SettingWithCopyWarning: \n",
      "A value is trying to be set on a copy of a slice from a DataFrame.\n",
      "Try using .loc[row_indexer,col_indexer] = value instead\n",
      "\n",
      "See the caveats in the documentation: https://pandas.pydata.org/pandas-docs/stable/user_guide/indexing.html#returning-a-view-versus-a-copy\n",
      "  df_jan_ft[categories] = df_jan_ft[categories].astype(str)\n"
     ]
    }
   ],
   "source": [
    "dv = DictVectorizer()\n",
    "\n",
    "categories = ['PULocationID', 'DOLocationID']\n",
    "target = 'duration'\n",
    "\n",
    "df_jan_ft[categories] = df_jan_ft[categories].astype(str)\n",
    "df_jan_train = df_jan_ft[categories].to_dict(orient='records')\n",
    "\n",
    "x_train = dv.fit_transform(df_jan_train)\n"
   ]
  },
  {
   "cell_type": "code",
   "execution_count": 48,
   "id": "4c7e75c7",
   "metadata": {},
   "outputs": [],
   "source": [
    "y_train = df_jan_ft[target].values"
   ]
  },
  {
   "cell_type": "code",
   "execution_count": 49,
   "id": "efaba8d9",
   "metadata": {},
   "outputs": [
    {
     "data": {
      "text/plain": [
       "2"
      ]
     },
     "execution_count": 49,
     "metadata": {},
     "output_type": "execute_result"
    }
   ],
   "source": [
    "# Q4. One-hot encoding\n",
    "# I couldn't figure out other ways to count number of dimensions\n",
    "x_train.ndim"
   ]
  },
  {
   "cell_type": "code",
   "execution_count": 50,
   "id": "2c0c6758",
   "metadata": {},
   "outputs": [
    {
     "data": {
      "text/plain": [
       "7.64926193996255"
      ]
     },
     "execution_count": 50,
     "metadata": {},
     "output_type": "execute_result"
    }
   ],
   "source": [
    "#Q5. Training a model\n",
    "\n",
    "lr = LinearRegression()\n",
    "lr.fit(x_train, y_train)\n",
    "y_pred = lr.predict(x_train)\n",
    "\n",
    "root_mean_squared_error(y_train, y_pred)"
   ]
  },
  {
   "cell_type": "code",
   "execution_count": 51,
   "id": "ff8c5d53",
   "metadata": {},
   "outputs": [
    {
     "name": "stderr",
     "output_type": "stream",
     "text": [
      "C:\\Users\\Daniel\\AppData\\Local\\Temp\\ipykernel_21884\\1340103467.py:11: SettingWithCopyWarning: \n",
      "A value is trying to be set on a copy of a slice from a DataFrame.\n",
      "Try using .loc[row_indexer,col_indexer] = value instead\n",
      "\n",
      "See the caveats in the documentation: https://pandas.pydata.org/pandas-docs/stable/user_guide/indexing.html#returning-a-view-versus-a-copy\n",
      "  df[categories] = df[categories].astype(str)\n"
     ]
    },
    {
     "data": {
      "text/plain": [
       "7.811818059155752"
      ]
     },
     "execution_count": 51,
     "metadata": {},
     "output_type": "execute_result"
    }
   ],
   "source": [
    "# Q6. Evaluating the model\n",
    "# For this one we will make a proper function going though everything we had before\n",
    "def prepare_df_eval(df, target, dv, lr):\n",
    "    \n",
    "    df[\"duration\"] = df.tpep_dropoff_datetime - df.tpep_pickup_datetime\n",
    "    df.duration = df.duration.apply(lambda td: td.total_seconds() / 60)\n",
    "    df = df[(df.duration >= 1) & (df.duration <= 60)]\n",
    "\n",
    "    categories = ['PULocationID', 'DOLocationID']\n",
    "\n",
    "    df[categories] = df[categories].astype(str)\n",
    "    df_val_dict = df[categories].to_dict(orient='records')\n",
    "\n",
    "    # The number of features can be different between our sources\n",
    "    # so we use `transform`` instead of `fit_transform`, to use same feature mapping of the original train dataset\n",
    "    x_val = dv.transform(df_val_dict)\n",
    "    y_val = df[target].values\n",
    "\n",
    "    def eval_on_two_dfs(lr, x_val, y_val):\n",
    "        y_pred = lr.predict(x_val)\n",
    "\n",
    "        rmse = root_mean_squared_error(y_val, y_pred)\n",
    "        return rmse\n",
    "    return eval_on_two_dfs(lr, x_val, y_val)\n",
    "\n",
    "prepare_df_eval(df_feb, target, dv, lr)\n"
   ]
  }
 ],
 "metadata": {
  "kernelspec": {
   "display_name": ".venv",
   "language": "python",
   "name": "python3"
  },
  "language_info": {
   "codemirror_mode": {
    "name": "ipython",
    "version": 3
   },
   "file_extension": ".py",
   "mimetype": "text/x-python",
   "name": "python",
   "nbconvert_exporter": "python",
   "pygments_lexer": "ipython3",
   "version": "3.12.11"
  }
 },
 "nbformat": 4,
 "nbformat_minor": 5
}
